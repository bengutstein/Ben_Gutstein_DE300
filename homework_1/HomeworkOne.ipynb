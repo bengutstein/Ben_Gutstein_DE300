{
  "nbformat": 4,
  "nbformat_minor": 0,
  "metadata": {
    "colab": {
      "provenance": []
    },
    "kernelspec": {
      "name": "python3",
      "display_name": "Python 3"
    },
    "language_info": {
      "name": "python"
    }
  },
  "cells": [
    {
      "cell_type": "markdown",
      "source": [
        "Ben Gutstein\n",
        "\n",
        "Homework 1: Aircraft Inventory\n",
        "\n",
        "Data Eng 300"
      ],
      "metadata": {
        "id": "qfR4NMscHPC7"
      }
    },
    {
      "cell_type": "markdown",
      "source": [
        "Task 1:"
      ],
      "metadata": {
        "id": "3IMdNa-uIZbo"
      }
    },
    {
      "cell_type": "code",
      "execution_count": 2,
      "metadata": {
        "colab": {
          "base_uri": "https://localhost:8080/"
        },
        "id": "yUL3BTnLG6hK",
        "outputId": "b2d596f9-f8b6-49bb-af5f-97a808e1edce"
      },
      "outputs": [
        {
          "output_type": "stream",
          "name": "stderr",
          "text": [
            "<ipython-input-2-5c56377932bc>:2: DtypeWarning: Columns (11) have mixed types. Specify dtype option on import or set low_memory=False.\n",
            "  df = pd.read_csv('/content/T_F41SCHEDULE_B43.csv')\n"
          ]
        }
      ],
      "source": [
        "import pandas as pd\n",
        "df = pd.read_csv('/content/T_F41SCHEDULE_B43.csv')"
      ]
    },
    {
      "cell_type": "code",
      "source": [
        "columns_to_check = [\n",
        "    'CARRIER', 'CARRIER_NAME', 'MANUFACTURE_YEAR',\n",
        "    'NUMBER_OF_SEATS', 'CAPACITY_IN_POUNDS', 'AIRLINE_ID'\n",
        "]\n",
        "\n",
        "missing_summary = df[columns_to_check].isnull().sum().to_frame(name='Missing_Count')\n",
        "missing_summary['Missing_%'] = (missing_summary['Missing_Count'] / len(df)) * 100\n",
        "missing_summary"
      ],
      "metadata": {
        "colab": {
          "base_uri": "https://localhost:8080/",
          "height": 238
        },
        "id": "ozcm9EZcIqaN",
        "outputId": "f67b6cc3-7cfb-42b5-9545-e5799dd4751a"
      },
      "execution_count": 3,
      "outputs": [
        {
          "output_type": "execute_result",
          "data": {
            "text/plain": [
              "                    Missing_Count  Missing_%\n",
              "CARRIER                        49   0.037033\n",
              "CARRIER_NAME                  105   0.079357\n",
              "MANUFACTURE_YEAR                3   0.002267\n",
              "NUMBER_OF_SEATS                 7   0.005290\n",
              "CAPACITY_IN_POUNDS            101   0.076334\n",
              "AIRLINE_ID                    105   0.079357"
            ],
            "text/html": [
              "\n",
              "  <div id=\"df-a2e7cbc4-9a53-4bdb-b696-84d540151c96\" class=\"colab-df-container\">\n",
              "    <div>\n",
              "<style scoped>\n",
              "    .dataframe tbody tr th:only-of-type {\n",
              "        vertical-align: middle;\n",
              "    }\n",
              "\n",
              "    .dataframe tbody tr th {\n",
              "        vertical-align: top;\n",
              "    }\n",
              "\n",
              "    .dataframe thead th {\n",
              "        text-align: right;\n",
              "    }\n",
              "</style>\n",
              "<table border=\"1\" class=\"dataframe\">\n",
              "  <thead>\n",
              "    <tr style=\"text-align: right;\">\n",
              "      <th></th>\n",
              "      <th>Missing_Count</th>\n",
              "      <th>Missing_%</th>\n",
              "    </tr>\n",
              "  </thead>\n",
              "  <tbody>\n",
              "    <tr>\n",
              "      <th>CARRIER</th>\n",
              "      <td>49</td>\n",
              "      <td>0.037033</td>\n",
              "    </tr>\n",
              "    <tr>\n",
              "      <th>CARRIER_NAME</th>\n",
              "      <td>105</td>\n",
              "      <td>0.079357</td>\n",
              "    </tr>\n",
              "    <tr>\n",
              "      <th>MANUFACTURE_YEAR</th>\n",
              "      <td>3</td>\n",
              "      <td>0.002267</td>\n",
              "    </tr>\n",
              "    <tr>\n",
              "      <th>NUMBER_OF_SEATS</th>\n",
              "      <td>7</td>\n",
              "      <td>0.005290</td>\n",
              "    </tr>\n",
              "    <tr>\n",
              "      <th>CAPACITY_IN_POUNDS</th>\n",
              "      <td>101</td>\n",
              "      <td>0.076334</td>\n",
              "    </tr>\n",
              "    <tr>\n",
              "      <th>AIRLINE_ID</th>\n",
              "      <td>105</td>\n",
              "      <td>0.079357</td>\n",
              "    </tr>\n",
              "  </tbody>\n",
              "</table>\n",
              "</div>\n",
              "    <div class=\"colab-df-buttons\">\n",
              "\n",
              "  <div class=\"colab-df-container\">\n",
              "    <button class=\"colab-df-convert\" onclick=\"convertToInteractive('df-a2e7cbc4-9a53-4bdb-b696-84d540151c96')\"\n",
              "            title=\"Convert this dataframe to an interactive table.\"\n",
              "            style=\"display:none;\">\n",
              "\n",
              "  <svg xmlns=\"http://www.w3.org/2000/svg\" height=\"24px\" viewBox=\"0 -960 960 960\">\n",
              "    <path d=\"M120-120v-720h720v720H120Zm60-500h600v-160H180v160Zm220 220h160v-160H400v160Zm0 220h160v-160H400v160ZM180-400h160v-160H180v160Zm440 0h160v-160H620v160ZM180-180h160v-160H180v160Zm440 0h160v-160H620v160Z\"/>\n",
              "  </svg>\n",
              "    </button>\n",
              "\n",
              "  <style>\n",
              "    .colab-df-container {\n",
              "      display:flex;\n",
              "      gap: 12px;\n",
              "    }\n",
              "\n",
              "    .colab-df-convert {\n",
              "      background-color: #E8F0FE;\n",
              "      border: none;\n",
              "      border-radius: 50%;\n",
              "      cursor: pointer;\n",
              "      display: none;\n",
              "      fill: #1967D2;\n",
              "      height: 32px;\n",
              "      padding: 0 0 0 0;\n",
              "      width: 32px;\n",
              "    }\n",
              "\n",
              "    .colab-df-convert:hover {\n",
              "      background-color: #E2EBFA;\n",
              "      box-shadow: 0px 1px 2px rgba(60, 64, 67, 0.3), 0px 1px 3px 1px rgba(60, 64, 67, 0.15);\n",
              "      fill: #174EA6;\n",
              "    }\n",
              "\n",
              "    .colab-df-buttons div {\n",
              "      margin-bottom: 4px;\n",
              "    }\n",
              "\n",
              "    [theme=dark] .colab-df-convert {\n",
              "      background-color: #3B4455;\n",
              "      fill: #D2E3FC;\n",
              "    }\n",
              "\n",
              "    [theme=dark] .colab-df-convert:hover {\n",
              "      background-color: #434B5C;\n",
              "      box-shadow: 0px 1px 3px 1px rgba(0, 0, 0, 0.15);\n",
              "      filter: drop-shadow(0px 1px 2px rgba(0, 0, 0, 0.3));\n",
              "      fill: #FFFFFF;\n",
              "    }\n",
              "  </style>\n",
              "\n",
              "    <script>\n",
              "      const buttonEl =\n",
              "        document.querySelector('#df-a2e7cbc4-9a53-4bdb-b696-84d540151c96 button.colab-df-convert');\n",
              "      buttonEl.style.display =\n",
              "        google.colab.kernel.accessAllowed ? 'block' : 'none';\n",
              "\n",
              "      async function convertToInteractive(key) {\n",
              "        const element = document.querySelector('#df-a2e7cbc4-9a53-4bdb-b696-84d540151c96');\n",
              "        const dataTable =\n",
              "          await google.colab.kernel.invokeFunction('convertToInteractive',\n",
              "                                                    [key], {});\n",
              "        if (!dataTable) return;\n",
              "\n",
              "        const docLinkHtml = 'Like what you see? Visit the ' +\n",
              "          '<a target=\"_blank\" href=https://colab.research.google.com/notebooks/data_table.ipynb>data table notebook</a>'\n",
              "          + ' to learn more about interactive tables.';\n",
              "        element.innerHTML = '';\n",
              "        dataTable['output_type'] = 'display_data';\n",
              "        await google.colab.output.renderOutput(dataTable, element);\n",
              "        const docLink = document.createElement('div');\n",
              "        docLink.innerHTML = docLinkHtml;\n",
              "        element.appendChild(docLink);\n",
              "      }\n",
              "    </script>\n",
              "  </div>\n",
              "\n",
              "\n",
              "<div id=\"df-4e82b929-e98c-40e1-aed3-4b49c7c2ab27\">\n",
              "  <button class=\"colab-df-quickchart\" onclick=\"quickchart('df-4e82b929-e98c-40e1-aed3-4b49c7c2ab27')\"\n",
              "            title=\"Suggest charts\"\n",
              "            style=\"display:none;\">\n",
              "\n",
              "<svg xmlns=\"http://www.w3.org/2000/svg\" height=\"24px\"viewBox=\"0 0 24 24\"\n",
              "     width=\"24px\">\n",
              "    <g>\n",
              "        <path d=\"M19 3H5c-1.1 0-2 .9-2 2v14c0 1.1.9 2 2 2h14c1.1 0 2-.9 2-2V5c0-1.1-.9-2-2-2zM9 17H7v-7h2v7zm4 0h-2V7h2v10zm4 0h-2v-4h2v4z\"/>\n",
              "    </g>\n",
              "</svg>\n",
              "  </button>\n",
              "\n",
              "<style>\n",
              "  .colab-df-quickchart {\n",
              "      --bg-color: #E8F0FE;\n",
              "      --fill-color: #1967D2;\n",
              "      --hover-bg-color: #E2EBFA;\n",
              "      --hover-fill-color: #174EA6;\n",
              "      --disabled-fill-color: #AAA;\n",
              "      --disabled-bg-color: #DDD;\n",
              "  }\n",
              "\n",
              "  [theme=dark] .colab-df-quickchart {\n",
              "      --bg-color: #3B4455;\n",
              "      --fill-color: #D2E3FC;\n",
              "      --hover-bg-color: #434B5C;\n",
              "      --hover-fill-color: #FFFFFF;\n",
              "      --disabled-bg-color: #3B4455;\n",
              "      --disabled-fill-color: #666;\n",
              "  }\n",
              "\n",
              "  .colab-df-quickchart {\n",
              "    background-color: var(--bg-color);\n",
              "    border: none;\n",
              "    border-radius: 50%;\n",
              "    cursor: pointer;\n",
              "    display: none;\n",
              "    fill: var(--fill-color);\n",
              "    height: 32px;\n",
              "    padding: 0;\n",
              "    width: 32px;\n",
              "  }\n",
              "\n",
              "  .colab-df-quickchart:hover {\n",
              "    background-color: var(--hover-bg-color);\n",
              "    box-shadow: 0 1px 2px rgba(60, 64, 67, 0.3), 0 1px 3px 1px rgba(60, 64, 67, 0.15);\n",
              "    fill: var(--button-hover-fill-color);\n",
              "  }\n",
              "\n",
              "  .colab-df-quickchart-complete:disabled,\n",
              "  .colab-df-quickchart-complete:disabled:hover {\n",
              "    background-color: var(--disabled-bg-color);\n",
              "    fill: var(--disabled-fill-color);\n",
              "    box-shadow: none;\n",
              "  }\n",
              "\n",
              "  .colab-df-spinner {\n",
              "    border: 2px solid var(--fill-color);\n",
              "    border-color: transparent;\n",
              "    border-bottom-color: var(--fill-color);\n",
              "    animation:\n",
              "      spin 1s steps(1) infinite;\n",
              "  }\n",
              "\n",
              "  @keyframes spin {\n",
              "    0% {\n",
              "      border-color: transparent;\n",
              "      border-bottom-color: var(--fill-color);\n",
              "      border-left-color: var(--fill-color);\n",
              "    }\n",
              "    20% {\n",
              "      border-color: transparent;\n",
              "      border-left-color: var(--fill-color);\n",
              "      border-top-color: var(--fill-color);\n",
              "    }\n",
              "    30% {\n",
              "      border-color: transparent;\n",
              "      border-left-color: var(--fill-color);\n",
              "      border-top-color: var(--fill-color);\n",
              "      border-right-color: var(--fill-color);\n",
              "    }\n",
              "    40% {\n",
              "      border-color: transparent;\n",
              "      border-right-color: var(--fill-color);\n",
              "      border-top-color: var(--fill-color);\n",
              "    }\n",
              "    60% {\n",
              "      border-color: transparent;\n",
              "      border-right-color: var(--fill-color);\n",
              "    }\n",
              "    80% {\n",
              "      border-color: transparent;\n",
              "      border-right-color: var(--fill-color);\n",
              "      border-bottom-color: var(--fill-color);\n",
              "    }\n",
              "    90% {\n",
              "      border-color: transparent;\n",
              "      border-bottom-color: var(--fill-color);\n",
              "    }\n",
              "  }\n",
              "</style>\n",
              "\n",
              "  <script>\n",
              "    async function quickchart(key) {\n",
              "      const quickchartButtonEl =\n",
              "        document.querySelector('#' + key + ' button');\n",
              "      quickchartButtonEl.disabled = true;  // To prevent multiple clicks.\n",
              "      quickchartButtonEl.classList.add('colab-df-spinner');\n",
              "      try {\n",
              "        const charts = await google.colab.kernel.invokeFunction(\n",
              "            'suggestCharts', [key], {});\n",
              "      } catch (error) {\n",
              "        console.error('Error during call to suggestCharts:', error);\n",
              "      }\n",
              "      quickchartButtonEl.classList.remove('colab-df-spinner');\n",
              "      quickchartButtonEl.classList.add('colab-df-quickchart-complete');\n",
              "    }\n",
              "    (() => {\n",
              "      let quickchartButtonEl =\n",
              "        document.querySelector('#df-4e82b929-e98c-40e1-aed3-4b49c7c2ab27 button');\n",
              "      quickchartButtonEl.style.display =\n",
              "        google.colab.kernel.accessAllowed ? 'block' : 'none';\n",
              "    })();\n",
              "  </script>\n",
              "</div>\n",
              "\n",
              "  <div id=\"id_45512cbf-7c2f-4bc2-b846-d636ec9a7bb9\">\n",
              "    <style>\n",
              "      .colab-df-generate {\n",
              "        background-color: #E8F0FE;\n",
              "        border: none;\n",
              "        border-radius: 50%;\n",
              "        cursor: pointer;\n",
              "        display: none;\n",
              "        fill: #1967D2;\n",
              "        height: 32px;\n",
              "        padding: 0 0 0 0;\n",
              "        width: 32px;\n",
              "      }\n",
              "\n",
              "      .colab-df-generate:hover {\n",
              "        background-color: #E2EBFA;\n",
              "        box-shadow: 0px 1px 2px rgba(60, 64, 67, 0.3), 0px 1px 3px 1px rgba(60, 64, 67, 0.15);\n",
              "        fill: #174EA6;\n",
              "      }\n",
              "\n",
              "      [theme=dark] .colab-df-generate {\n",
              "        background-color: #3B4455;\n",
              "        fill: #D2E3FC;\n",
              "      }\n",
              "\n",
              "      [theme=dark] .colab-df-generate:hover {\n",
              "        background-color: #434B5C;\n",
              "        box-shadow: 0px 1px 3px 1px rgba(0, 0, 0, 0.15);\n",
              "        filter: drop-shadow(0px 1px 2px rgba(0, 0, 0, 0.3));\n",
              "        fill: #FFFFFF;\n",
              "      }\n",
              "    </style>\n",
              "    <button class=\"colab-df-generate\" onclick=\"generateWithVariable('missing_summary')\"\n",
              "            title=\"Generate code using this dataframe.\"\n",
              "            style=\"display:none;\">\n",
              "\n",
              "  <svg xmlns=\"http://www.w3.org/2000/svg\" height=\"24px\"viewBox=\"0 0 24 24\"\n",
              "       width=\"24px\">\n",
              "    <path d=\"M7,19H8.4L18.45,9,17,7.55,7,17.6ZM5,21V16.75L18.45,3.32a2,2,0,0,1,2.83,0l1.4,1.43a1.91,1.91,0,0,1,.58,1.4,1.91,1.91,0,0,1-.58,1.4L9.25,21ZM18.45,9,17,7.55Zm-12,3A5.31,5.31,0,0,0,4.9,8.1,5.31,5.31,0,0,0,1,6.5,5.31,5.31,0,0,0,4.9,4.9,5.31,5.31,0,0,0,6.5,1,5.31,5.31,0,0,0,8.1,4.9,5.31,5.31,0,0,0,12,6.5,5.46,5.46,0,0,0,6.5,12Z\"/>\n",
              "  </svg>\n",
              "    </button>\n",
              "    <script>\n",
              "      (() => {\n",
              "      const buttonEl =\n",
              "        document.querySelector('#id_45512cbf-7c2f-4bc2-b846-d636ec9a7bb9 button.colab-df-generate');\n",
              "      buttonEl.style.display =\n",
              "        google.colab.kernel.accessAllowed ? 'block' : 'none';\n",
              "\n",
              "      buttonEl.onclick = () => {\n",
              "        google.colab.notebook.generateWithVariable('missing_summary');\n",
              "      }\n",
              "      })();\n",
              "    </script>\n",
              "  </div>\n",
              "\n",
              "    </div>\n",
              "  </div>\n"
            ],
            "application/vnd.google.colaboratory.intrinsic+json": {
              "type": "dataframe",
              "variable_name": "missing_summary",
              "summary": "{\n  \"name\": \"missing_summary\",\n  \"rows\": 6,\n  \"fields\": [\n    {\n      \"column\": \"Missing_Count\",\n      \"properties\": {\n        \"dtype\": \"number\",\n        \"std\": 48,\n        \"min\": 3,\n        \"max\": 105,\n        \"num_unique_values\": 5,\n        \"samples\": [\n          105,\n          101,\n          3\n        ],\n        \"semantic_type\": \"\",\n        \"description\": \"\"\n      }\n    },\n    {\n      \"column\": \"Missing_%\",\n      \"properties\": {\n        \"dtype\": \"number\",\n        \"std\": 0.03686075927670878,\n        \"min\": 0.002267350902783551,\n        \"max\": 0.07935728159742429,\n        \"num_unique_values\": 5,\n        \"samples\": [\n          0.07935728159742429,\n          0.07633414706037955,\n          0.002267350902783551\n        ],\n        \"semantic_type\": \"\",\n        \"description\": \"\"\n      }\n    }\n  ]\n}"
            }
          },
          "metadata": {},
          "execution_count": 3
        }
      ]
    },
    {
      "cell_type": "code",
      "source": [
        "df[df['CARRIER'].isnull()][['CARRIER_NAME', 'UNIQUE_CARRIER']].drop_duplicates()\n",
        "\n",
        "df[df['MANUFACTURE_YEAR'].isnull()][['MODEL', 'MANUFACTURER']]\n",
        "\n",
        "df.groupby('MODEL')[['NUMBER_OF_SEATS', 'CAPACITY_IN_POUNDS']].median()\n",
        "\n",
        "carrier_airline_map = df[['CARRIER', 'AIRLINE_ID']].dropna().drop_duplicates()"
      ],
      "metadata": {
        "id": "SUMr2Y0sI8Fz"
      },
      "execution_count": 5,
      "outputs": []
    },
    {
      "cell_type": "code",
      "source": [
        "# Check where CARRIER is missing but CARRIER_NAME is not\n",
        "carrier_inference = df[df['CARRIER'].isnull()][['CARRIER_NAME', 'UNIQUE_CARRIER']].drop_duplicates()\n",
        "\n",
        "# Check if AIRLINE_ID is predictable from CARRIER\n",
        "carrier_to_airline = df[['CARRIER', 'AIRLINE_ID']].dropna().drop_duplicates()\n",
        "\n",
        "# Median imputation by MODEL\n",
        "median_vals = df.groupby('MODEL')[['NUMBER_OF_SEATS', 'CAPACITY_IN_POUNDS']].median()"
      ],
      "metadata": {
        "id": "2S8H_VrkJJKt"
      },
      "execution_count": 6,
      "outputs": []
    },
    {
      "cell_type": "code",
      "source": [
        "# Fill in CARRIER based on UNIQUE_CARRIER where possible\n",
        "df['CARRIER'] = df['CARRIER'].fillna(df['UNIQUE_CARRIER'])\n",
        "\n",
        "# Fill in AIRLINE_ID based on CARRIER using the map\n",
        "carrier_airline_dict = carrier_to_airline.set_index('CARRIER')['AIRLINE_ID'].to_dict()\n",
        "df['AIRLINE_ID'] = df.apply(lambda row: carrier_airline_dict.get(row['CARRIER']) if pd.isna(row['AIRLINE_ID']) else row['AIRLINE_ID'], axis=1)\n",
        "\n",
        "# Fill in MANUFACTURE_YEAR using the most frequent year per model (could also do median)\n",
        "year_mode_by_model = df.groupby('MODEL')['MANUFACTURE_YEAR'].agg(lambda x: x.mode().iloc[0] if not x.mode().empty else None)\n",
        "df['MANUFACTURE_YEAR'] = df.apply(lambda row: year_mode_by_model[row['MODEL']] if pd.isna(row['MANUFACTURE_YEAR']) else row['MANUFACTURE_YEAR'], axis=1)\n",
        "\n",
        "# Fill in NUMBER_OF_SEATS and CAPACITY_IN_POUNDS by model-based median\n",
        "for col in ['NUMBER_OF_SEATS', 'CAPACITY_IN_POUNDS']:\n",
        "    df[col] = df.apply(lambda row: median_vals.loc[row['MODEL'], col] if pd.isna(row[col]) and row['MODEL'] in median_vals.index else row[col], axis=1)"
      ],
      "metadata": {
        "id": "uDidL0kOJrpA"
      },
      "execution_count": 7,
      "outputs": []
    },
    {
      "cell_type": "code",
      "source": [
        "# Re-check for remaining missing values\n",
        "df[columns_to_check].isnull().sum()"
      ],
      "metadata": {
        "colab": {
          "base_uri": "https://localhost:8080/",
          "height": 272
        },
        "id": "ouqpbkn5JuOC",
        "outputId": "258a3cb0-93ac-409d-fa27-4a09dca81732"
      },
      "execution_count": 8,
      "outputs": [
        {
          "output_type": "execute_result",
          "data": {
            "text/plain": [
              "CARRIER                49\n",
              "CARRIER_NAME          105\n",
              "MANUFACTURE_YEAR        0\n",
              "NUMBER_OF_SEATS         0\n",
              "CAPACITY_IN_POUNDS      0\n",
              "AIRLINE_ID              0\n",
              "dtype: int64"
            ],
            "text/html": [
              "<div>\n",
              "<style scoped>\n",
              "    .dataframe tbody tr th:only-of-type {\n",
              "        vertical-align: middle;\n",
              "    }\n",
              "\n",
              "    .dataframe tbody tr th {\n",
              "        vertical-align: top;\n",
              "    }\n",
              "\n",
              "    .dataframe thead th {\n",
              "        text-align: right;\n",
              "    }\n",
              "</style>\n",
              "<table border=\"1\" class=\"dataframe\">\n",
              "  <thead>\n",
              "    <tr style=\"text-align: right;\">\n",
              "      <th></th>\n",
              "      <th>0</th>\n",
              "    </tr>\n",
              "  </thead>\n",
              "  <tbody>\n",
              "    <tr>\n",
              "      <th>CARRIER</th>\n",
              "      <td>49</td>\n",
              "    </tr>\n",
              "    <tr>\n",
              "      <th>CARRIER_NAME</th>\n",
              "      <td>105</td>\n",
              "    </tr>\n",
              "    <tr>\n",
              "      <th>MANUFACTURE_YEAR</th>\n",
              "      <td>0</td>\n",
              "    </tr>\n",
              "    <tr>\n",
              "      <th>NUMBER_OF_SEATS</th>\n",
              "      <td>0</td>\n",
              "    </tr>\n",
              "    <tr>\n",
              "      <th>CAPACITY_IN_POUNDS</th>\n",
              "      <td>0</td>\n",
              "    </tr>\n",
              "    <tr>\n",
              "      <th>AIRLINE_ID</th>\n",
              "      <td>0</td>\n",
              "    </tr>\n",
              "  </tbody>\n",
              "</table>\n",
              "</div><br><label><b>dtype:</b> int64</label>"
            ]
          },
          "metadata": {},
          "execution_count": 8
        }
      ]
    },
    {
      "cell_type": "markdown",
      "source": [
        "I investigated the missing values and used logical imputations. First, carrier was filled with unique carrier field. Airline ID was inferred via a one to one mapping from carrier. Manufacture year was imputed using model year within each model. I also filled in the number of seats and capacity in pounds using per model medians. The only column that remains partially missing was carrier name, but this data is descriptive and I do not think would necessarily helpful in our analysis."
      ],
      "metadata": {
        "id": "UtUD08JdJ4BV"
      }
    },
    {
      "cell_type": "markdown",
      "source": [
        "Task 1: I used GAI (ChatGPT) to help me break down the logic behind imputing missing values. Specifically, I asked for guidance on how to use model-based median imputation and how to implement it efficiently using a for-loop."
      ],
      "metadata": {
        "id": "aq1QO37cLAoZ"
      }
    },
    {
      "cell_type": "markdown",
      "source": [
        "Task 2:"
      ],
      "metadata": {
        "id": "FEb5BbsHMY9N"
      }
    },
    {
      "cell_type": "code",
      "source": [
        "cols_to_check = ['MANUFACTURER', 'MODEL', 'AIRCRAFT_STATUS', 'OPERATING_STATUS']\n",
        "\n",
        "for col in cols_to_check:\n",
        "    print(f\"\\n~~~~~~ {col} ~~~~~~\")\n",
        "    print(df[col].value_counts(dropna=False).head(15))"
      ],
      "metadata": {
        "colab": {
          "base_uri": "https://localhost:8080/"
        },
        "id": "ofbob392K_oC",
        "outputId": "c0537871-0001-48e3-f8e2-e3a44bc69d39"
      },
      "execution_count": 10,
      "outputs": [
        {
          "output_type": "stream",
          "name": "stdout",
          "text": [
            "\n",
            "~~~~~~ MANUFACTURER ~~~~~~\n",
            "MANUFACTURER\n",
            "BOEING                                                                              15922\n",
            "Embraer                                                                             11508\n",
            "THEBOEINGCO                                                                          9223\n",
            "Bombardier                                                                           8871\n",
            "Boeing                                                                               8392\n",
            "BoeingCo                                                                             7446\n",
            "AIRBUS                                                                               7179\n",
            "AirbusIndustries                                                                     6967\n",
            "BOEINGCOMPANY                                                                        6767\n",
            "Airbus                                                                               5289\n",
            "CESSNA                                                                               4157\n",
            "EMBRAER                                                                              3287\n",
            "MCDONNELL-DOUGLAS                                                                    3160\n",
            "BOMBARDIER                                                                           2821\n",
            "BOEING                                                                               2811\n",
            "Name: count, dtype: int64\n",
            "\n",
            "~~~~~~ MODEL ~~~~~~\n",
            "MODEL\n",
            "EMB-145                 2614\n",
            "B-737-7H4               2470\n",
            "B737-823                2370\n",
            "A320-232                2333\n",
            "A321-231                2259\n",
            "737-700PASSENGERONLY    2027\n",
            "C-208B                  1872\n",
            "B757-2                  1775\n",
            "CRJ-2/4                 1761\n",
            "B737-800PAX             1621\n",
            "MD-80                   1610\n",
            "ERJ-170-200LR           1379\n",
            "757-200                 1345\n",
            "CRJ200-2B19             1342\n",
            "A319                    1267\n",
            "Name: count, dtype: int64\n",
            "\n",
            "~~~~~~ AIRCRAFT_STATUS ~~~~~~\n",
            "AIRCRAFT_STATUS\n",
            "O    79487\n",
            "b    30852\n",
            "B    12699\n",
            "a     7804\n",
            "A     1330\n",
            "L      122\n",
            "o       19\n",
            "Name: count, dtype: int64\n",
            "\n",
            "~~~~~~ OPERATING_STATUS ~~~~~~\n",
            "OPERATING_STATUS\n",
            "Y    126577\n",
            "N      5664\n",
            "y        71\n",
            "          1\n",
            "Name: count, dtype: int64\n"
          ]
        }
      ]
    },
    {
      "cell_type": "code",
      "source": [
        "df['MANUFACTURER'] = df['MANUFACTURER'].str.upper().str.strip()\n",
        "\n",
        "# Group variations of names into common names\n",
        "df['MANUFACTURER'] = df['MANUFACTURER'].replace({\n",
        "    'THEBOEINGCO': 'BOEING',\n",
        "    'BOEINGCO': 'BOEING',\n",
        "    'BOEINGCOMPANY': 'BOEING',\n",
        "    'EMBRAER': 'EMBRAER',\n",
        "    'BOMBARDIER': 'BOMBARDIER',\n",
        "    'AIRBUSINDUSTRIES': 'AIRBUS'\n",
        "})"
      ],
      "metadata": {
        "id": "I27HQem8MzBT"
      },
      "execution_count": 11,
      "outputs": []
    },
    {
      "cell_type": "code",
      "source": [
        "df['MODEL'] = df['MODEL'].str.upper().str.strip().str.replace('_', '-') # normalize the model names"
      ],
      "metadata": {
        "id": "Waupe7F2M49w"
      },
      "execution_count": 12,
      "outputs": []
    },
    {
      "cell_type": "code",
      "source": [
        "df['AIRCRAFT_STATUS'] = df['AIRCRAFT_STATUS'].str.upper().str.strip() # Get rid of any capitalization uncertainty"
      ],
      "metadata": {
        "id": "9ab_q--OM6Aq"
      },
      "execution_count": 13,
      "outputs": []
    },
    {
      "cell_type": "code",
      "source": [
        "# replace blank sections with unknown and normalize names\n",
        "df['OPERATING_STATUS'] = df['OPERATING_STATUS'].str.upper().str.strip()\n",
        "df['OPERATING_STATUS'] = df['OPERATING_STATUS'].replace('', 'UNKNOWN')"
      ],
      "metadata": {
        "id": "UKdfUrRfM8Hw"
      },
      "execution_count": 14,
      "outputs": []
    },
    {
      "cell_type": "code",
      "source": [
        "for col in ['MANUFACTURER', 'MODEL', 'AIRCRAFT_STATUS', 'OPERATING_STATUS']:\n",
        "    print(f\"\\nCleaned {col}:\")\n",
        "    print(df[col].value_counts())"
      ],
      "metadata": {
        "colab": {
          "base_uri": "https://localhost:8080/"
        },
        "id": "JwNKa8CYM_kX",
        "outputId": "097aa2cb-942a-4186-d60a-2b2124469a6d"
      },
      "execution_count": 15,
      "outputs": [
        {
          "output_type": "stream",
          "name": "stdout",
          "text": [
            "\n",
            "Cleaned MANUFACTURER:\n",
            "MANUFACTURER\n",
            "BOEING                        50958\n",
            "AIRBUS                        20493\n",
            "EMBRAER                       15554\n",
            "BOMBARDIER                    11834\n",
            "CESSNA                         4514\n",
            "                              ...  \n",
            "ROLLS-ROYCE                       1\n",
            "MCDONNEL                          1\n",
            "DASSAULT-FALCON-2000EXEASY        1\n",
            "ISRAELAIRCRAFTINDUSTRIES          1\n",
            "JSA/PEACH                         1\n",
            "Name: count, Length: 130, dtype: int64\n",
            "\n",
            "Cleaned MODEL:\n",
            "MODEL\n",
            "EMB-145      2976\n",
            "B-737-7H4    2470\n",
            "B737-823     2370\n",
            "A320-232     2333\n",
            "A321-231     2259\n",
            "             ... \n",
            "MD-9030         1\n",
            "777FFX          1\n",
            "747-48EF        1\n",
            "747-47UF        1\n",
            "WESTWINDI       1\n",
            "Name: count, Length: 1268, dtype: int64\n",
            "\n",
            "Cleaned AIRCRAFT_STATUS:\n",
            "AIRCRAFT_STATUS\n",
            "O    79506\n",
            "B    43551\n",
            "A     9134\n",
            "L      122\n",
            "Name: count, dtype: int64\n",
            "\n",
            "Cleaned OPERATING_STATUS:\n",
            "OPERATING_STATUS\n",
            "Y          126648\n",
            "N            5664\n",
            "UNKNOWN         1\n",
            "Name: count, dtype: int64\n"
          ]
        }
      ]
    },
    {
      "cell_type": "markdown",
      "source": [
        "I cleaned and consolidated the names and variables from the different columns. I normalized and trimmed manufacturer names and models. I did my best to create consistent labels for the status fields. I think these changes made the data set more reliable."
      ],
      "metadata": {
        "id": "E46KmrJtNqzD"
      }
    },
    {
      "cell_type": "markdown",
      "source": [
        "Task 3:"
      ],
      "metadata": {
        "id": "05rHPJ4LOCbe"
      }
    },
    {
      "cell_type": "code",
      "source": [
        "before_drop = len(df)\n",
        "df_clean = df.dropna()\n",
        "after_drop = len(df_clean)\n",
        "\n",
        "print(f\"Rows before drop: {before_drop}\")\n",
        "print(f\"Rows after drop:  {after_drop}\")\n",
        "print(f\"Rows removed:     {before_drop - after_drop}\")"
      ],
      "metadata": {
        "colab": {
          "base_uri": "https://localhost:8080/"
        },
        "id": "OLSICx3BOBQR",
        "outputId": "397d1186-5e4a-4633-ab4f-732c84b19ed8"
      },
      "execution_count": 16,
      "outputs": [
        {
          "output_type": "stream",
          "name": "stdout",
          "text": [
            "Rows before drop: 132313\n",
            "Rows after drop:  101276\n",
            "Rows removed:     31037\n"
          ]
        }
      ]
    },
    {
      "cell_type": "markdown",
      "source": [
        "We removed all the rows that contain blank information. We started with 132,313 rows, but can remove 31,037. This allows all of our future analysis to rely soley on complete cases."
      ],
      "metadata": {
        "id": "Lq5TkpkbP-7s"
      }
    },
    {
      "cell_type": "markdown",
      "source": [
        "Task 4:"
      ],
      "metadata": {
        "id": "Dxy2aq6ZQplz"
      }
    },
    {
      "cell_type": "code",
      "source": [
        "import matplotlib.pyplot as plt\n",
        "from scipy.stats import boxcox\n",
        "\n",
        "# Choose columns\n",
        "cols_to_transform = ['CAPACITY_IN_POUNDS', 'NUMBER_OF_SEATS']\n",
        "\n",
        "# Plot and transform each\n",
        "for col in cols_to_transform:\n",
        "    data = df_clean[col].dropna()\n",
        "\n",
        "    # Box-Cox requires positive values\n",
        "    data = data[data > 0]\n",
        "    transformed_data, _ = boxcox(data)\n",
        "\n",
        "    # Plot\n",
        "    fig, axes = plt.subplots(1, 2, figsize=(12, 4))\n",
        "    axes[0].hist(data, bins=50, color='skyblue', edgecolor='black')\n",
        "    axes[0].set_title(f\"{col} - Original\")\n",
        "\n",
        "    axes[1].hist(transformed_data, bins=50, color='lightgreen', edgecolor='black')\n",
        "    axes[1].set_title(f\"{col} - Box-Cox Transformed\")\n",
        "\n",
        "    plt.suptitle(f\"Distribution of {col}\")\n",
        "    plt.tight_layout()\n",
        "    plt.show()\n"
      ],
      "metadata": {
        "colab": {
          "base_uri": "https://localhost:8080/",
          "height": 741
        },
        "id": "N4zx1h3ZQrJM",
        "outputId": "0c44af40-9a8f-4279-ec3f-e56993d449de"
      },
      "execution_count": 17,
      "outputs": [
        {
          "output_type": "display_data",
          "data": {
            "text/plain": [
              "<Figure size 1200x400 with 2 Axes>"
            ],
            "image/png": "[encoded data removed]"
          },
          "metadata": {}
        },
        {
          "output_type": "display_data",
          "data": {
            "text/plain": [
              "<Figure size 1200x400 with 2 Axes>"
            ],
            "image/png": "[encoded data removed]"
          },
          "metadata": {}
        }
      ]
    },
    {
      "cell_type": "markdown",
      "source": [
        "I used box-cox transformation to the number of seats and capacity in pounds. I found that the original histograms skewed heavily to the right, which indicates non-normality in the data. After the transformation, the data demonstrated a much more even and symmetric distribution. These transformations could help meet assumptions for modeling methods, such as linear regression that expect normal-like input distributions."
      ],
      "metadata": {
        "id": "XfKm2vZtRrQH"
      }
    },
    {
      "cell_type": "markdown",
      "source": [
        "Task 5:"
      ],
      "metadata": {
        "id": "v5Dt_QuLShF9"
      }
    },
    {
      "cell_type": "code",
      "source": [
        "# Get seat percentiles\n",
        "q1 = df_clean['NUMBER_OF_SEATS'].quantile(0.25)\n",
        "q2 = df_clean['NUMBER_OF_SEATS'].quantile(0.50)\n",
        "q3 = df_clean['NUMBER_OF_SEATS'].quantile(0.75)\n",
        "\n",
        "# Define bins using quantiles\n",
        "bins = [0, q1, q2, q3, float('inf')]\n",
        "labels = ['SMALL', 'MEDIUM', 'LARGE', 'XLARGE']\n",
        "\n",
        "# Apply bins\n",
        "df_clean['SIZE'] = pd.cut(df_clean['NUMBER_OF_SEATS'], bins=bins, labels=labels, include_lowest=True)"
      ],
      "metadata": {
        "colab": {
          "base_uri": "https://localhost:8080/"
        },
        "id": "komcb_VrSV14",
        "outputId": "0314a89f-6ee2-47b4-ccc5-c967cdd3611d"
      },
      "execution_count": 23,
      "outputs": [
        {
          "output_type": "stream",
          "name": "stderr",
          "text": [
            "<ipython-input-23-7f08b82b52e8>:11: SettingWithCopyWarning: \n",
            "A value is trying to be set on a copy of a slice from a DataFrame.\n",
            "Try using .loc[row_indexer,col_indexer] = value instead\n",
            "\n",
            "See the caveats in the documentation: https://pandas.pydata.org/pandas-docs/stable/user_guide/indexing.html#returning-a-view-versus-a-copy\n",
            "  df_clean['SIZE'] = pd.cut(df_clean['NUMBER_OF_SEATS'], bins=bins, labels=labels, include_lowest=True)\n"
          ]
        }
      ]
    },
    {
      "cell_type": "code",
      "source": [
        "operating_counts = df_clean.groupby(['SIZE', 'OPERATING_STATUS']).size().unstack(fill_value=0)\n",
        "operating_props = operating_counts.div(operating_counts.sum(axis=1), axis=0)\n",
        "\n",
        "operating_props.plot(kind='bar', stacked=True, colormap='coolwarm', figsize=(8, 5))\n",
        "plt.title('Operating Status Proportions by Aircraft Size')\n",
        "plt.ylabel('Proportion')\n",
        "plt.xlabel('Aircraft Size')\n",
        "plt.legend(title='OPERATING_STATUS')\n",
        "plt.tight_layout()\n",
        "plt.show()"
      ],
      "metadata": {
        "colab": {
          "base_uri": "https://localhost:8080/",
          "height": 563
        },
        "id": "VtrMoEElSr2a",
        "outputId": "5dc8798a-f1fa-4c89-ecc5-4f5f4ff3a6b6"
      },
      "execution_count": 25,
      "outputs": [
        {
          "output_type": "stream",
          "name": "stderr",
          "text": [
            "<ipython-input-25-0b3a3dc86d6f>:1: FutureWarning: The default of observed=False is deprecated and will be changed to True in a future version of pandas. Pass observed=False to retain current behavior or observed=True to adopt the future default and silence this warning.\n",
            "  operating_counts = df_clean.groupby(['SIZE', 'OPERATING_STATUS']).size().unstack(fill_value=0)\n"
          ]
        },
        {
          "output_type": "display_data",
          "data": {
            "text/plain": [
              "<Figure size 800x500 with 1 Axes>"
            ],
            "image/png": "[encoded data removed]"
          },
          "metadata": {}
        }
      ]
    },
    {
      "cell_type": "markdown",
      "source": [
        "I created a new feature SIZE by dividing NUMBER_OF_SEATS into quartiles:\n",
        "\n",
        "SMALL: below 25th percentile\n",
        "\n",
        "MEDIUM: 25th–50th percentile\n",
        "\n",
        "LARGE: 50th–75th percentile\n",
        "\n",
        "XLARGE: above 75th percentile\n",
        "\n",
        "The bar chart shows the proportion of aircraft in each operating status (Y, N, UNKNOWN) across the size bins.\n",
        "I found a clear trend here. I noticed the larger aircraft (XLARGE) are more likely to be actively operating, while smaller aircraft (SMALL) have a slightly higher share of non-operating (N) or unknown status. This may reflect fleet retirement trends, where smaller planes are more likely to be cycled out or moved to less active roles. It could indicate the direction of airtravel and a focus on trying to fit more and more people on active planes."
      ],
      "metadata": {
        "id": "xRom3ncBYSvs"
      }
    },
    {
      "cell_type": "code",
      "source": [
        "aircraft_counts = df_clean.groupby(['SIZE', 'AIRCRAFT_STATUS']).size().unstack(fill_value=0)\n",
        "aircraft_props = aircraft_counts.div(aircraft_counts.sum(axis=1), axis=0)\n",
        "\n",
        "aircraft_props.plot(kind='bar', stacked=True, colormap='viridis', figsize=(8, 5))\n",
        "plt.title('Aircraft Status Proportions by Aircraft Size')\n",
        "plt.ylabel('Proportion')\n",
        "plt.xlabel('Aircraft Size')\n",
        "plt.legend(title='AIRCRAFT_STATUS')\n",
        "plt.tight_layout()\n",
        "plt.show()"
      ],
      "metadata": {
        "colab": {
          "base_uri": "https://localhost:8080/",
          "height": 563
        },
        "id": "AAl8Ql74X_To",
        "outputId": "e8610cdb-f5de-49ad-c99a-9d55650997dd"
      },
      "execution_count": 26,
      "outputs": [
        {
          "output_type": "stream",
          "name": "stderr",
          "text": [
            "<ipython-input-26-73d39c60631c>:1: FutureWarning: The default of observed=False is deprecated and will be changed to True in a future version of pandas. Pass observed=False to retain current behavior or observed=True to adopt the future default and silence this warning.\n",
            "  aircraft_counts = df_clean.groupby(['SIZE', 'AIRCRAFT_STATUS']).size().unstack(fill_value=0)\n"
          ]
        },
        {
          "output_type": "display_data",
          "data": {
            "text/plain": [
              "<Figure size 800x500 with 1 Axes>"
            ],
            "image/png": "[encoded data removed]"
          },
          "metadata": {}
        }
      ]
    },
    {
      "cell_type": "markdown",
      "source": [
        "I also then examined how aircraft status (AIRCRAFT_STATUS) varies by size quartiles: The \"O\", which means Operational or Owned, category dominates across all sizes, especially in the XLARGE and LARGE groups. SMALL and MEDIUM aircraft show a more mixed distribution, with noticeable representation in \"B\" and \"A\" status categories, which may reflect being in storage, under maintenance, or retired. These results suggest that larger aircraft are more consistently active or held in operational status, while smaller ones may be more frequently shifted to alternate uses or retired earlier. This aligns with the original thoughts from the other chart we looked at. Operational planes skew towards being larger in order to move the maximum number of people."
      ],
      "metadata": {
        "id": "q_TiAyFHYxKQ"
      }
    }
  ]
}